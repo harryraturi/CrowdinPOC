{
  "nbformat": 4,
  "nbformat_minor": 0,
  "metadata": {
    "colab": {
      "provenance": [],
      "authorship_tag": "ABX9TyMQNHjvY5NFM7xoxhX4TQ5F",
      "include_colab_link": true
    },
    "kernelspec": {
      "name": "python3",
      "display_name": "Python 3"
    },
    "language_info": {
      "name": "python"
    }
  },
  "cells": [
    {
      "cell_type": "markdown",
      "metadata": {
        "id": "view-in-github",
        "colab_type": "text"
      },
      "source": [
        "<a href=\"https://colab.research.google.com/github/harryraturi/CrowdinPOC/blob/main/NN_from_scratch_house_price_data_HR.ipynb\" target=\"_parent\"><img src=\"https://colab.research.google.com/assets/colab-badge.svg\" alt=\"Open In Colab\"/></a>"
      ]
    },
    {
      "cell_type": "markdown",
      "source": [
        "#  Agenda:\n",
        "- Read house pricing dataset and do the feature engineering \n",
        "- Forward Propagation through single neuron\n",
        "- Forward Propagation through multiple neuron\n",
        "- Forward Propagation matrix form"
      ],
      "metadata": {
        "id": "A6c1dqdvtdoh"
      }
    },
    {
      "cell_type": "markdown",
      "source": [
        "### Part 1: Import the Housing data and do feature engineering "
      ],
      "metadata": {
        "id": "Dc1drxgRvKVo"
      }
    },
    {
      "cell_type": "code",
      "execution_count": null,
      "metadata": {
        "id": "glcHaxubtWeO"
      },
      "outputs": [],
      "source": [
        "import tensorflow as tf\n",
        "import pandas as pd\n",
        "import numpy as np\n",
        "from sklearn.preprocessing import StandardScaler\n"
      ]
    },
    {
      "cell_type": "code",
      "source": [
        "from google.colab import drive\n",
        "drive.mount('/content/gdrive')"
      ],
      "metadata": {
        "colab": {
          "base_uri": "https://localhost:8080/"
        },
        "id": "1fmfsfGbFfv2",
        "outputId": "d9b95881-c235-4e9d-9649-b984ce108e56"
      },
      "execution_count": null,
      "outputs": [
        {
          "output_type": "stream",
          "name": "stdout",
          "text": [
            "Mounted at /content/gdrive\n"
          ]
        }
      ]
    },
    {
      "cell_type": "code",
      "source": [
        "df = pd.read_csv('/content/gdrive/MyDrive/MLDataset/house_price_full.csv')\n",
        "df.head()"
      ],
      "metadata": {
        "id": "LAj2uL9etc7i",
        "colab": {
          "base_uri": "https://localhost:8080/",
          "height": 206
        },
        "outputId": "583d3d55-d0e9-4a54-ed3e-ab36b8df718a"
      },
      "execution_count": null,
      "outputs": [
        {
          "output_type": "execute_result",
          "data": {
            "text/plain": [
              "   bedrooms  sqft_living    price\n",
              "0         3         1340   313000\n",
              "1         5         3650  2384000\n",
              "2         3         1930   342000\n",
              "3         3         2000   420000\n",
              "4         4         1940   550000"
            ],
            "text/html": [
              "\n",
              "  <div id=\"df-9f1bae95-921d-4133-a2bb-99270c29a20f\">\n",
              "    <div class=\"colab-df-container\">\n",
              "      <div>\n",
              "<style scoped>\n",
              "    .dataframe tbody tr th:only-of-type {\n",
              "        vertical-align: middle;\n",
              "    }\n",
              "\n",
              "    .dataframe tbody tr th {\n",
              "        vertical-align: top;\n",
              "    }\n",
              "\n",
              "    .dataframe thead th {\n",
              "        text-align: right;\n",
              "    }\n",
              "</style>\n",
              "<table border=\"1\" class=\"dataframe\">\n",
              "  <thead>\n",
              "    <tr style=\"text-align: right;\">\n",
              "      <th></th>\n",
              "      <th>bedrooms</th>\n",
              "      <th>sqft_living</th>\n",
              "      <th>price</th>\n",
              "    </tr>\n",
              "  </thead>\n",
              "  <tbody>\n",
              "    <tr>\n",
              "      <th>0</th>\n",
              "      <td>3</td>\n",
              "      <td>1340</td>\n",
              "      <td>313000</td>\n",
              "    </tr>\n",
              "    <tr>\n",
              "      <th>1</th>\n",
              "      <td>5</td>\n",
              "      <td>3650</td>\n",
              "      <td>2384000</td>\n",
              "    </tr>\n",
              "    <tr>\n",
              "      <th>2</th>\n",
              "      <td>3</td>\n",
              "      <td>1930</td>\n",
              "      <td>342000</td>\n",
              "    </tr>\n",
              "    <tr>\n",
              "      <th>3</th>\n",
              "      <td>3</td>\n",
              "      <td>2000</td>\n",
              "      <td>420000</td>\n",
              "    </tr>\n",
              "    <tr>\n",
              "      <th>4</th>\n",
              "      <td>4</td>\n",
              "      <td>1940</td>\n",
              "      <td>550000</td>\n",
              "    </tr>\n",
              "  </tbody>\n",
              "</table>\n",
              "</div>\n",
              "      <button class=\"colab-df-convert\" onclick=\"convertToInteractive('df-9f1bae95-921d-4133-a2bb-99270c29a20f')\"\n",
              "              title=\"Convert this dataframe to an interactive table.\"\n",
              "              style=\"display:none;\">\n",
              "        \n",
              "  <svg xmlns=\"http://www.w3.org/2000/svg\" height=\"24px\"viewBox=\"0 0 24 24\"\n",
              "       width=\"24px\">\n",
              "    <path d=\"M0 0h24v24H0V0z\" fill=\"none\"/>\n",
              "    <path d=\"M18.56 5.44l.94 2.06.94-2.06 2.06-.94-2.06-.94-.94-2.06-.94 2.06-2.06.94zm-11 1L8.5 8.5l.94-2.06 2.06-.94-2.06-.94L8.5 2.5l-.94 2.06-2.06.94zm10 10l.94 2.06.94-2.06 2.06-.94-2.06-.94-.94-2.06-.94 2.06-2.06.94z\"/><path d=\"M17.41 7.96l-1.37-1.37c-.4-.4-.92-.59-1.43-.59-.52 0-1.04.2-1.43.59L10.3 9.45l-7.72 7.72c-.78.78-.78 2.05 0 2.83L4 21.41c.39.39.9.59 1.41.59.51 0 1.02-.2 1.41-.59l7.78-7.78 2.81-2.81c.8-.78.8-2.07 0-2.86zM5.41 20L4 18.59l7.72-7.72 1.47 1.35L5.41 20z\"/>\n",
              "  </svg>\n",
              "      </button>\n",
              "      \n",
              "  <style>\n",
              "    .colab-df-container {\n",
              "      display:flex;\n",
              "      flex-wrap:wrap;\n",
              "      gap: 12px;\n",
              "    }\n",
              "\n",
              "    .colab-df-convert {\n",
              "      background-color: #E8F0FE;\n",
              "      border: none;\n",
              "      border-radius: 50%;\n",
              "      cursor: pointer;\n",
              "      display: none;\n",
              "      fill: #1967D2;\n",
              "      height: 32px;\n",
              "      padding: 0 0 0 0;\n",
              "      width: 32px;\n",
              "    }\n",
              "\n",
              "    .colab-df-convert:hover {\n",
              "      background-color: #E2EBFA;\n",
              "      box-shadow: 0px 1px 2px rgba(60, 64, 67, 0.3), 0px 1px 3px 1px rgba(60, 64, 67, 0.15);\n",
              "      fill: #174EA6;\n",
              "    }\n",
              "\n",
              "    [theme=dark] .colab-df-convert {\n",
              "      background-color: #3B4455;\n",
              "      fill: #D2E3FC;\n",
              "    }\n",
              "\n",
              "    [theme=dark] .colab-df-convert:hover {\n",
              "      background-color: #434B5C;\n",
              "      box-shadow: 0px 1px 3px 1px rgba(0, 0, 0, 0.15);\n",
              "      filter: drop-shadow(0px 1px 2px rgba(0, 0, 0, 0.3));\n",
              "      fill: #FFFFFF;\n",
              "    }\n",
              "  </style>\n",
              "\n",
              "      <script>\n",
              "        const buttonEl =\n",
              "          document.querySelector('#df-9f1bae95-921d-4133-a2bb-99270c29a20f button.colab-df-convert');\n",
              "        buttonEl.style.display =\n",
              "          google.colab.kernel.accessAllowed ? 'block' : 'none';\n",
              "\n",
              "        async function convertToInteractive(key) {\n",
              "          const element = document.querySelector('#df-9f1bae95-921d-4133-a2bb-99270c29a20f');\n",
              "          const dataTable =\n",
              "            await google.colab.kernel.invokeFunction('convertToInteractive',\n",
              "                                                     [key], {});\n",
              "          if (!dataTable) return;\n",
              "\n",
              "          const docLinkHtml = 'Like what you see? Visit the ' +\n",
              "            '<a target=\"_blank\" href=https://colab.research.google.com/notebooks/data_table.ipynb>data table notebook</a>'\n",
              "            + ' to learn more about interactive tables.';\n",
              "          element.innerHTML = '';\n",
              "          dataTable['output_type'] = 'display_data';\n",
              "          await google.colab.output.renderOutput(dataTable, element);\n",
              "          const docLink = document.createElement('div');\n",
              "          docLink.innerHTML = docLinkHtml;\n",
              "          element.appendChild(docLink);\n",
              "        }\n",
              "      </script>\n",
              "    </div>\n",
              "  </div>\n",
              "  "
            ]
          },
          "metadata": {},
          "execution_count": 3
        }
      ]
    },
    {
      "cell_type": "code",
      "source": [
        "X = df.copy()\n",
        "# Remove target\n",
        "Y = X.pop('price')\n",
        "\n"
      ],
      "metadata": {
        "id": "bfT65HH1tc-V"
      },
      "execution_count": null,
      "outputs": []
    },
    {
      "cell_type": "code",
      "source": [
        "X.head(2)"
      ],
      "metadata": {
        "id": "amx0jLlttdBH",
        "colab": {
          "base_uri": "https://localhost:8080/",
          "height": 112
        },
        "outputId": "8eb609db-bbe5-4dc7-bd94-374b59dfe32a"
      },
      "execution_count": null,
      "outputs": [
        {
          "output_type": "execute_result",
          "data": {
            "text/plain": [
              "   bedrooms  sqft_living\n",
              "0         3         1340\n",
              "1         5         3650"
            ],
            "text/html": [
              "\n",
              "  <div id=\"df-a4da17a0-4676-4586-9bea-072fe8eb445c\">\n",
              "    <div class=\"colab-df-container\">\n",
              "      <div>\n",
              "<style scoped>\n",
              "    .dataframe tbody tr th:only-of-type {\n",
              "        vertical-align: middle;\n",
              "    }\n",
              "\n",
              "    .dataframe tbody tr th {\n",
              "        vertical-align: top;\n",
              "    }\n",
              "\n",
              "    .dataframe thead th {\n",
              "        text-align: right;\n",
              "    }\n",
              "</style>\n",
              "<table border=\"1\" class=\"dataframe\">\n",
              "  <thead>\n",
              "    <tr style=\"text-align: right;\">\n",
              "      <th></th>\n",
              "      <th>bedrooms</th>\n",
              "      <th>sqft_living</th>\n",
              "    </tr>\n",
              "  </thead>\n",
              "  <tbody>\n",
              "    <tr>\n",
              "      <th>0</th>\n",
              "      <td>3</td>\n",
              "      <td>1340</td>\n",
              "    </tr>\n",
              "    <tr>\n",
              "      <th>1</th>\n",
              "      <td>5</td>\n",
              "      <td>3650</td>\n",
              "    </tr>\n",
              "  </tbody>\n",
              "</table>\n",
              "</div>\n",
              "      <button class=\"colab-df-convert\" onclick=\"convertToInteractive('df-a4da17a0-4676-4586-9bea-072fe8eb445c')\"\n",
              "              title=\"Convert this dataframe to an interactive table.\"\n",
              "              style=\"display:none;\">\n",
              "        \n",
              "  <svg xmlns=\"http://www.w3.org/2000/svg\" height=\"24px\"viewBox=\"0 0 24 24\"\n",
              "       width=\"24px\">\n",
              "    <path d=\"M0 0h24v24H0V0z\" fill=\"none\"/>\n",
              "    <path d=\"M18.56 5.44l.94 2.06.94-2.06 2.06-.94-2.06-.94-.94-2.06-.94 2.06-2.06.94zm-11 1L8.5 8.5l.94-2.06 2.06-.94-2.06-.94L8.5 2.5l-.94 2.06-2.06.94zm10 10l.94 2.06.94-2.06 2.06-.94-2.06-.94-.94-2.06-.94 2.06-2.06.94z\"/><path d=\"M17.41 7.96l-1.37-1.37c-.4-.4-.92-.59-1.43-.59-.52 0-1.04.2-1.43.59L10.3 9.45l-7.72 7.72c-.78.78-.78 2.05 0 2.83L4 21.41c.39.39.9.59 1.41.59.51 0 1.02-.2 1.41-.59l7.78-7.78 2.81-2.81c.8-.78.8-2.07 0-2.86zM5.41 20L4 18.59l7.72-7.72 1.47 1.35L5.41 20z\"/>\n",
              "  </svg>\n",
              "      </button>\n",
              "      \n",
              "  <style>\n",
              "    .colab-df-container {\n",
              "      display:flex;\n",
              "      flex-wrap:wrap;\n",
              "      gap: 12px;\n",
              "    }\n",
              "\n",
              "    .colab-df-convert {\n",
              "      background-color: #E8F0FE;\n",
              "      border: none;\n",
              "      border-radius: 50%;\n",
              "      cursor: pointer;\n",
              "      display: none;\n",
              "      fill: #1967D2;\n",
              "      height: 32px;\n",
              "      padding: 0 0 0 0;\n",
              "      width: 32px;\n",
              "    }\n",
              "\n",
              "    .colab-df-convert:hover {\n",
              "      background-color: #E2EBFA;\n",
              "      box-shadow: 0px 1px 2px rgba(60, 64, 67, 0.3), 0px 1px 3px 1px rgba(60, 64, 67, 0.15);\n",
              "      fill: #174EA6;\n",
              "    }\n",
              "\n",
              "    [theme=dark] .colab-df-convert {\n",
              "      background-color: #3B4455;\n",
              "      fill: #D2E3FC;\n",
              "    }\n",
              "\n",
              "    [theme=dark] .colab-df-convert:hover {\n",
              "      background-color: #434B5C;\n",
              "      box-shadow: 0px 1px 3px 1px rgba(0, 0, 0, 0.15);\n",
              "      filter: drop-shadow(0px 1px 2px rgba(0, 0, 0, 0.3));\n",
              "      fill: #FFFFFF;\n",
              "    }\n",
              "  </style>\n",
              "\n",
              "      <script>\n",
              "        const buttonEl =\n",
              "          document.querySelector('#df-a4da17a0-4676-4586-9bea-072fe8eb445c button.colab-df-convert');\n",
              "        buttonEl.style.display =\n",
              "          google.colab.kernel.accessAllowed ? 'block' : 'none';\n",
              "\n",
              "        async function convertToInteractive(key) {\n",
              "          const element = document.querySelector('#df-a4da17a0-4676-4586-9bea-072fe8eb445c');\n",
              "          const dataTable =\n",
              "            await google.colab.kernel.invokeFunction('convertToInteractive',\n",
              "                                                     [key], {});\n",
              "          if (!dataTable) return;\n",
              "\n",
              "          const docLinkHtml = 'Like what you see? Visit the ' +\n",
              "            '<a target=\"_blank\" href=https://colab.research.google.com/notebooks/data_table.ipynb>data table notebook</a>'\n",
              "            + ' to learn more about interactive tables.';\n",
              "          element.innerHTML = '';\n",
              "          dataTable['output_type'] = 'display_data';\n",
              "          await google.colab.output.renderOutput(dataTable, element);\n",
              "          const docLink = document.createElement('div');\n",
              "          docLink.innerHTML = docLinkHtml;\n",
              "          element.appendChild(docLink);\n",
              "        }\n",
              "      </script>\n",
              "    </div>\n",
              "  </div>\n",
              "  "
            ]
          },
          "metadata": {},
          "execution_count": 5
        }
      ]
    },
    {
      "cell_type": "code",
      "source": [
        "# perform a scaler transform of the input data\n",
        "scaler = StandardScaler()\n",
        "X = scaler.fit_transform(X)\n",
        "\n",
        "# perform log transformation of target variable (For Sandeep: Is this needed?)\n",
        "Y = np.log(Y)"
      ],
      "metadata": {
        "id": "CyEtAYwQtdDo"
      },
      "execution_count": null,
      "outputs": []
    },
    {
      "cell_type": "code",
      "source": [
        "df_scaled = pd.DataFrame(X)\n",
        "df_scaled"
      ],
      "metadata": {
        "colab": {
          "base_uri": "https://localhost:8080/",
          "height": 424
        },
        "id": "pIk3I3YLRvn8",
        "outputId": "52ef35fa-7890-422a-f7c4-8080e59da54d"
      },
      "execution_count": null,
      "outputs": [
        {
          "output_type": "execute_result",
          "data": {
            "text/plain": [
              "            0         1\n",
              "0   -0.433198 -0.753258\n",
              "1    1.675735  1.457330\n",
              "2   -0.433198 -0.188649\n",
              "3   -0.433198 -0.121661\n",
              "4    0.621269 -0.179079\n",
              "..        ...       ...\n",
              "494  0.621269  0.873582\n",
              "495  1.675735  2.299459\n",
              "496 -0.433198 -0.724549\n",
              "497 -0.433198 -0.179079\n",
              "498 -0.433198 -1.040347\n",
              "\n",
              "[499 rows x 2 columns]"
            ],
            "text/html": [
              "\n",
              "  <div id=\"df-f8f5aa21-aa15-4741-a85a-38f5cdafbdce\">\n",
              "    <div class=\"colab-df-container\">\n",
              "      <div>\n",
              "<style scoped>\n",
              "    .dataframe tbody tr th:only-of-type {\n",
              "        vertical-align: middle;\n",
              "    }\n",
              "\n",
              "    .dataframe tbody tr th {\n",
              "        vertical-align: top;\n",
              "    }\n",
              "\n",
              "    .dataframe thead th {\n",
              "        text-align: right;\n",
              "    }\n",
              "</style>\n",
              "<table border=\"1\" class=\"dataframe\">\n",
              "  <thead>\n",
              "    <tr style=\"text-align: right;\">\n",
              "      <th></th>\n",
              "      <th>0</th>\n",
              "      <th>1</th>\n",
              "    </tr>\n",
              "  </thead>\n",
              "  <tbody>\n",
              "    <tr>\n",
              "      <th>0</th>\n",
              "      <td>-0.433198</td>\n",
              "      <td>-0.753258</td>\n",
              "    </tr>\n",
              "    <tr>\n",
              "      <th>1</th>\n",
              "      <td>1.675735</td>\n",
              "      <td>1.457330</td>\n",
              "    </tr>\n",
              "    <tr>\n",
              "      <th>2</th>\n",
              "      <td>-0.433198</td>\n",
              "      <td>-0.188649</td>\n",
              "    </tr>\n",
              "    <tr>\n",
              "      <th>3</th>\n",
              "      <td>-0.433198</td>\n",
              "      <td>-0.121661</td>\n",
              "    </tr>\n",
              "    <tr>\n",
              "      <th>4</th>\n",
              "      <td>0.621269</td>\n",
              "      <td>-0.179079</td>\n",
              "    </tr>\n",
              "    <tr>\n",
              "      <th>...</th>\n",
              "      <td>...</td>\n",
              "      <td>...</td>\n",
              "    </tr>\n",
              "    <tr>\n",
              "      <th>494</th>\n",
              "      <td>0.621269</td>\n",
              "      <td>0.873582</td>\n",
              "    </tr>\n",
              "    <tr>\n",
              "      <th>495</th>\n",
              "      <td>1.675735</td>\n",
              "      <td>2.299459</td>\n",
              "    </tr>\n",
              "    <tr>\n",
              "      <th>496</th>\n",
              "      <td>-0.433198</td>\n",
              "      <td>-0.724549</td>\n",
              "    </tr>\n",
              "    <tr>\n",
              "      <th>497</th>\n",
              "      <td>-0.433198</td>\n",
              "      <td>-0.179079</td>\n",
              "    </tr>\n",
              "    <tr>\n",
              "      <th>498</th>\n",
              "      <td>-0.433198</td>\n",
              "      <td>-1.040347</td>\n",
              "    </tr>\n",
              "  </tbody>\n",
              "</table>\n",
              "<p>499 rows × 2 columns</p>\n",
              "</div>\n",
              "      <button class=\"colab-df-convert\" onclick=\"convertToInteractive('df-f8f5aa21-aa15-4741-a85a-38f5cdafbdce')\"\n",
              "              title=\"Convert this dataframe to an interactive table.\"\n",
              "              style=\"display:none;\">\n",
              "        \n",
              "  <svg xmlns=\"http://www.w3.org/2000/svg\" height=\"24px\"viewBox=\"0 0 24 24\"\n",
              "       width=\"24px\">\n",
              "    <path d=\"M0 0h24v24H0V0z\" fill=\"none\"/>\n",
              "    <path d=\"M18.56 5.44l.94 2.06.94-2.06 2.06-.94-2.06-.94-.94-2.06-.94 2.06-2.06.94zm-11 1L8.5 8.5l.94-2.06 2.06-.94-2.06-.94L8.5 2.5l-.94 2.06-2.06.94zm10 10l.94 2.06.94-2.06 2.06-.94-2.06-.94-.94-2.06-.94 2.06-2.06.94z\"/><path d=\"M17.41 7.96l-1.37-1.37c-.4-.4-.92-.59-1.43-.59-.52 0-1.04.2-1.43.59L10.3 9.45l-7.72 7.72c-.78.78-.78 2.05 0 2.83L4 21.41c.39.39.9.59 1.41.59.51 0 1.02-.2 1.41-.59l7.78-7.78 2.81-2.81c.8-.78.8-2.07 0-2.86zM5.41 20L4 18.59l7.72-7.72 1.47 1.35L5.41 20z\"/>\n",
              "  </svg>\n",
              "      </button>\n",
              "      \n",
              "  <style>\n",
              "    .colab-df-container {\n",
              "      display:flex;\n",
              "      flex-wrap:wrap;\n",
              "      gap: 12px;\n",
              "    }\n",
              "\n",
              "    .colab-df-convert {\n",
              "      background-color: #E8F0FE;\n",
              "      border: none;\n",
              "      border-radius: 50%;\n",
              "      cursor: pointer;\n",
              "      display: none;\n",
              "      fill: #1967D2;\n",
              "      height: 32px;\n",
              "      padding: 0 0 0 0;\n",
              "      width: 32px;\n",
              "    }\n",
              "\n",
              "    .colab-df-convert:hover {\n",
              "      background-color: #E2EBFA;\n",
              "      box-shadow: 0px 1px 2px rgba(60, 64, 67, 0.3), 0px 1px 3px 1px rgba(60, 64, 67, 0.15);\n",
              "      fill: #174EA6;\n",
              "    }\n",
              "\n",
              "    [theme=dark] .colab-df-convert {\n",
              "      background-color: #3B4455;\n",
              "      fill: #D2E3FC;\n",
              "    }\n",
              "\n",
              "    [theme=dark] .colab-df-convert:hover {\n",
              "      background-color: #434B5C;\n",
              "      box-shadow: 0px 1px 3px 1px rgba(0, 0, 0, 0.15);\n",
              "      filter: drop-shadow(0px 1px 2px rgba(0, 0, 0, 0.3));\n",
              "      fill: #FFFFFF;\n",
              "    }\n",
              "  </style>\n",
              "\n",
              "      <script>\n",
              "        const buttonEl =\n",
              "          document.querySelector('#df-f8f5aa21-aa15-4741-a85a-38f5cdafbdce button.colab-df-convert');\n",
              "        buttonEl.style.display =\n",
              "          google.colab.kernel.accessAllowed ? 'block' : 'none';\n",
              "\n",
              "        async function convertToInteractive(key) {\n",
              "          const element = document.querySelector('#df-f8f5aa21-aa15-4741-a85a-38f5cdafbdce');\n",
              "          const dataTable =\n",
              "            await google.colab.kernel.invokeFunction('convertToInteractive',\n",
              "                                                     [key], {});\n",
              "          if (!dataTable) return;\n",
              "\n",
              "          const docLinkHtml = 'Like what you see? Visit the ' +\n",
              "            '<a target=\"_blank\" href=https://colab.research.google.com/notebooks/data_table.ipynb>data table notebook</a>'\n",
              "            + ' to learn more about interactive tables.';\n",
              "          element.innerHTML = '';\n",
              "          dataTable['output_type'] = 'display_data';\n",
              "          await google.colab.output.renderOutput(dataTable, element);\n",
              "          const docLink = document.createElement('div');\n",
              "          docLink.innerHTML = docLinkHtml;\n",
              "          element.appendChild(docLink);\n",
              "        }\n",
              "      </script>\n",
              "    </div>\n",
              "  </div>\n",
              "  "
            ]
          },
          "metadata": {},
          "execution_count": 7
        }
      ]
    },
    {
      "cell_type": "code",
      "source": [
        "Y"
      ],
      "metadata": {
        "colab": {
          "base_uri": "https://localhost:8080/"
        },
        "id": "H4fNovtgR17_",
        "outputId": "c9005de1-a7b2-4394-86f3-9d9862497691"
      },
      "execution_count": null,
      "outputs": [
        {
          "output_type": "execute_result",
          "data": {
            "text/plain": [
              "0      12.653958\n",
              "1      14.684290\n",
              "2      12.742566\n",
              "3      12.948010\n",
              "4      13.217674\n",
              "         ...    \n",
              "494    13.380102\n",
              "495    13.764217\n",
              "496    12.128111\n",
              "497    12.721886\n",
              "498    12.254863\n",
              "Name: price, Length: 499, dtype: float64"
            ]
          },
          "metadata": {},
          "execution_count": 8
        }
      ]
    },
    {
      "cell_type": "code",
      "source": [
        "#Taking 1 sample: x0,x1\n",
        "x1, x2 = df_scaled.iloc[0]"
      ],
      "metadata": {
        "id": "V4MVGwZkR1-3"
      },
      "execution_count": null,
      "outputs": []
    },
    {
      "cell_type": "code",
      "source": [
        "x = tf.constant([[x1,x2]], dtype=tf.float32)\n",
        "x"
      ],
      "metadata": {
        "colab": {
          "base_uri": "https://localhost:8080/"
        },
        "id": "3HfscSXqR2BN",
        "outputId": "76daa59e-71f8-4fb9-e4b1-4178f45c1635"
      },
      "execution_count": null,
      "outputs": [
        {
          "output_type": "execute_result",
          "data": {
            "text/plain": [
              "<tf.Tensor: shape=(1, 2), dtype=float32, numpy=array([[-0.43319765, -0.7532575 ]], dtype=float32)>"
            ]
          },
          "metadata": {},
          "execution_count": 10
        }
      ]
    },
    {
      "cell_type": "markdown",
      "source": [
        "### Part2: Forward Propagation with a single Neuron\n",
        "\n",
        "The simplest way to describe a neural network is that we have some inputs , which get combined into an auxilliary variable . The auxilliary variable is passed through the activation function  and the result is the output.\n",
        "\n",
        "Here is another image showing each step.\n",
        "![](neuron.png)\n",
        "Notice that the inputs are linearly combined according to some weights  and a bias . This transformation is also sometimes called an affine transformation. The perceptron transforms the weighted inputs according to the rule of the activation function. For a single perceptron, the output  is just the output from the perceptron. The linear transformation and activation of the neuron occurs within a single layer of the network (shown in the dotted box).\n",
        "\n",
        "Let's see what the single-layer, single neuron network give us. We have a couple of choices to make:\n",
        "\n",
        "We must choose some weights and some biases\n",
        "We must choose an activation function\n",
        "For now, we will manually specify the weights and biases.\n",
        "\n",
        "We choose a sigmoid activation function"
      ],
      "metadata": {
        "id": "tpljw44VS7aM"
      }
    },
    {
      "cell_type": "code",
      "source": [
        "#weights\n",
        "w1 = tf.Variable([0.2], dtype=tf.float32)\n",
        "w2 = tf.Variable([0.15], dtype=tf.float32)\n",
        "#bias\n",
        "b = tf.Variable([0.1], dtype=tf.float32)"
      ],
      "metadata": {
        "id": "fyDLG2IpR2rM"
      },
      "execution_count": null,
      "outputs": []
    },
    {
      "cell_type": "code",
      "source": [
        "#Cumulative input\n",
        "z = b + w1*x1 +w2*x2\n",
        "h = tf.math.sigmoid(z)\n",
        "print(\"The output from the first neuron is\",h)"
      ],
      "metadata": {
        "colab": {
          "base_uri": "https://localhost:8080/"
        },
        "id": "z-gTeXlXSHly",
        "outputId": "b0e85c4a-0f52-4df8-9193-060ed1ab3093"
      },
      "execution_count": null,
      "outputs": [
        {
          "output_type": "stream",
          "name": "stdout",
          "text": [
            "The output from the first neuron is tf.Tensor([0.47511354], shape=(1,), dtype=float32)\n"
          ]
        }
      ]
    },
    {
      "cell_type": "markdown",
      "source": [
        "### Part3: Forward Propagation with multiple neurons\n",
        "\n",
        "![](multiple_neurons.png)"
      ],
      "metadata": {
        "id": "kUUD0jr4TUDA"
      }
    },
    {
      "cell_type": "code",
      "source": [
        "## layer1 weights\n",
        "# neuron1\n",
        "b1 = tf.Variable([0.1])\n",
        "w11 = tf.Variable([0.2])\n",
        "w12 = tf.Variable([0.15])\n",
        "#neuron2\n",
        "b2 = tf.Variable([0.25])\n",
        "w21 = tf.Variable([0.5])\n",
        "w22 = tf.Variable([0.6])\n"
      ],
      "metadata": {
        "id": "AEldIqIxSHop"
      },
      "execution_count": null,
      "outputs": []
    },
    {
      "cell_type": "code",
      "source": [
        "## forward pass\n",
        "# neuron 1\n",
        "z1 = b1+w11*x1+w12*x2\n",
        "h1 = tf.math.sigmoid(z1)\n",
        "print(\"The output from the first neuron is\",h1)"
      ],
      "metadata": {
        "colab": {
          "base_uri": "https://localhost:8080/"
        },
        "id": "Kof2J2nPSHrh",
        "outputId": "568c505a-38d5-405a-acf1-5c8b097d2f04"
      },
      "execution_count": null,
      "outputs": [
        {
          "output_type": "stream",
          "name": "stdout",
          "text": [
            "The output from the first neuron is tf.Tensor([0.47511354], shape=(1,), dtype=float32)\n"
          ]
        }
      ]
    },
    {
      "cell_type": "code",
      "source": [
        "## forward pass\n",
        "# neuron 2\n",
        "z2 = b2+w21*x1+w22*x2\n",
        "h2 = tf.math.sigmoid(z2)\n",
        "print(\"The output from the second neuron is\",h2)"
      ],
      "metadata": {
        "colab": {
          "base_uri": "https://localhost:8080/"
        },
        "id": "90XmdpuOSHtY",
        "outputId": "9b392c41-6e4c-4bba-d717-84ddb55adbe2"
      },
      "execution_count": null,
      "outputs": [
        {
          "output_type": "stream",
          "name": "stdout",
          "text": [
            "The output from the second neuron is tf.Tensor([0.39686295], shape=(1,), dtype=float32)\n"
          ]
        }
      ]
    },
    {
      "cell_type": "code",
      "source": [
        "## layer2 weights\n",
        "b1 = tf.Variable([0.4])\n",
        "w11 = tf.Variable([0.3])\n",
        "w12 = tf.Variable([0.2])"
      ],
      "metadata": {
        "id": "FeEJ3DvUSHvr"
      },
      "execution_count": null,
      "outputs": []
    },
    {
      "cell_type": "code",
      "source": [
        "## forward pass\n",
        "# second layer\n",
        "z1 = b1+w11*h1+w12*h2\n",
        "h1 = z1\n",
        "print(\"The output from the first neuron is\",h1)"
      ],
      "metadata": {
        "colab": {
          "base_uri": "https://localhost:8080/"
        },
        "id": "2Q2uru8pT_dC",
        "outputId": "85a84ba4-7640-4b37-db1f-de1b52c084d8"
      },
      "execution_count": null,
      "outputs": [
        {
          "output_type": "stream",
          "name": "stdout",
          "text": [
            "The output from the first neuron is tf.Tensor([0.62190664], shape=(1,), dtype=float32)\n"
          ]
        }
      ]
    },
    {
      "cell_type": "code",
      "source": [
        "y_true = Y[0]\n",
        "y_pred = h1.numpy()"
      ],
      "metadata": {
        "id": "GzIpFdeVT_gF"
      },
      "execution_count": null,
      "outputs": []
    },
    {
      "cell_type": "code",
      "source": [
        "#loss\n",
        "L = 0.5*(y_true - y_pred)**2\n",
        "print(\"The MSE error is\",L)"
      ],
      "metadata": {
        "colab": {
          "base_uri": "https://localhost:8080/"
        },
        "id": "0RUStjJjT_iO",
        "outputId": "3de43088-e8e4-4f43-9042-6b5fd5e1b6cc"
      },
      "execution_count": null,
      "outputs": [
        {
          "output_type": "stream",
          "name": "stdout",
          "text": [
            "The MSE error is [72.38514]\n"
          ]
        }
      ]
    },
    {
      "cell_type": "markdown",
      "source": [
        "## Part 4: Forward pass matrix multiplication\n",
        "![](multiple_neurons.png)\n",
        "\n",
        "![](Matrix.gif)\n",
        "\n",
        "This network can be described as follows:\n",
        "\n",
        "- Input vector = $X = (x1,x2)$\n",
        "- Weight Matrix (hidden layer) = $$W^1 = \\begin{bmatrix}\n",
        "w^1_{11}&&w^1_{12}\\\\\n",
        "w^1_{21}&&w^1_{22}\\\\\n",
        "\\end{bmatrix}\n",
        "$$\n",
        "*note the subscripts are being mapped to weights in the figure\n",
        "\n",
        "- Bias/offset Matrix (hidden layer) = $$\n",
        "B^1_0 = \\begin{bmatrix}\n",
        "b^1_{1}\\\\\n",
        "b^1_{2}\\\\\n",
        "\\end{bmatrix}\n",
        "$$\n",
        "\n",
        "Now the forward pass for the hidden layer can be described as \n",
        "\n",
        "$$W^1 \\times X^T + B^1_0= Z^1 = \\begin{bmatrix}\n",
        "z^1_{1}\\\\\n",
        "z^1_{2}\\\\\n",
        "\\end{bmatrix}\n",
        "$$\n",
        "\n",
        "Applying the activation function $f$ over the matrix $Z$ will complete the forward pass.\n",
        "\n",
        "$$f(W^1 \\times X^T + B^1_0)= f(Z^1) = f(\\begin{bmatrix}\n",
        "z^1_{1}\\\\\n",
        "z^1_{2}\\\\\n",
        "\\end{bmatrix}) = \n",
        "\\begin{bmatrix}\n",
        "f(z^1_{1})\\\\\n",
        "f(z^1_{2})\\\\\n",
        "\\end{bmatrix}\n",
        "=\n",
        "\\begin{bmatrix}\n",
        "h^1_1\\\\\n",
        "h^1_2\\\\\n",
        "\\end{bmatrix}\n",
        "= H^1\n",
        "$$\n",
        "\n",
        "For the output layer:\n",
        "\n",
        "- The weight matrix is $$W^2 = \\begin{bmatrix}\n",
        "w^2_{11}&&w^2_{12}\\\\\n",
        "\\end{bmatrix}\n",
        "$$\n",
        "\n",
        "- The bias/offset matrix is $$B^2_0 = \\begin{bmatrix}\n",
        "b^2_{1}\\\\\n",
        "\\end{bmatrix}\n",
        "$$\n",
        "\n",
        "Now the forward pass can be written as:\n",
        "\n",
        "\n",
        "$$ B_0^2+W^2 \\times H^1$$\n"
      ],
      "metadata": {
        "id": "dPEXI7AAgkX9"
      }
    },
    {
      "cell_type": "code",
      "source": [
        "## layer 1 weights\n",
        "W1 = tf.Variable([[0.2, 0.15],\n",
        "                     [0.5, 0.6]], dtype=tf.float32)\n",
        "## layer 1 bias\n",
        "B1 = tf.Variable([[0.1],\n",
        "                [0.25]], dtype=tf.float32)"
      ],
      "metadata": {
        "id": "UsoTuPPTT_ks"
      },
      "execution_count": null,
      "outputs": []
    },
    {
      "cell_type": "code",
      "source": [
        "## layer 2 weights\n",
        "W2 = tf.Variable([[0.3, 0.2]], dtype=tf.float32)\n",
        "#bias\n",
        "B2 = tf.Variable([0.4], dtype=tf.float32)"
      ],
      "metadata": {
        "id": "JeRp-zAuT_tU"
      },
      "execution_count": null,
      "outputs": []
    },
    {
      "cell_type": "code",
      "source": [
        "## data\n",
        "X = tf.constant([[x1,x2]], dtype=tf.float32)"
      ],
      "metadata": {
        "id": "1D5gIiSwT_wC"
      },
      "execution_count": null,
      "outputs": []
    },
    {
      "cell_type": "code",
      "source": [
        "## forward pass layer 1\n",
        "Z1 = tf.matmul(W1, tf.transpose(X)) + B1\n",
        "H1 = tf.math.sigmoid(Z1)\n",
        "print(H1)"
      ],
      "metadata": {
        "colab": {
          "base_uri": "https://localhost:8080/"
        },
        "id": "bZxb7zqPgtKF",
        "outputId": "c48dc3f6-16df-4379-a452-854fbd34c8d4"
      },
      "execution_count": null,
      "outputs": [
        {
          "output_type": "stream",
          "name": "stdout",
          "text": [
            "tf.Tensor(\n",
            "[[0.47511354]\n",
            " [0.39686295]], shape=(2, 1), dtype=float32)\n"
          ]
        }
      ]
    },
    {
      "cell_type": "code",
      "source": [
        "## forward pass layer 2\n",
        "Z2 = tf.matmul(W2,H1)+B2"
      ],
      "metadata": {
        "id": "TacfM34xgtMc"
      },
      "execution_count": null,
      "outputs": []
    },
    {
      "cell_type": "code",
      "source": [
        "Z2"
      ],
      "metadata": {
        "colab": {
          "base_uri": "https://localhost:8080/"
        },
        "id": "4g0coqe2gtOy",
        "outputId": "a1ed0e21-ee63-4e4f-a08c-be2f58cec226"
      },
      "execution_count": null,
      "outputs": [
        {
          "output_type": "execute_result",
          "data": {
            "text/plain": [
              "<tf.Tensor: shape=(1, 1), dtype=float32, numpy=array([[0.62190664]], dtype=float32)>"
            ]
          },
          "metadata": {},
          "execution_count": 25
        }
      ]
    },
    {
      "cell_type": "code",
      "source": [
        "y_pred = Z2.numpy()\n",
        "loss = 0.5*(y_true-y_pred)**2\n",
        "print(loss)"
      ],
      "metadata": {
        "colab": {
          "base_uri": "https://localhost:8080/"
        },
        "id": "B7ZU11xhgtRB",
        "outputId": "2d09eff4-dff1-49b1-b01c-bdf113781fb6"
      },
      "execution_count": null,
      "outputs": [
        {
          "output_type": "stream",
          "name": "stdout",
          "text": [
            "[[72.38514]]\n"
          ]
        }
      ]
    },
    {
      "cell_type": "markdown",
      "source": [
        "## Part5: Random Weight Initialization\n",
        "\n",
        "![](multiple_neurons.png)"
      ],
      "metadata": {
        "id": "VDeQHDONh4GU"
      }
    },
    {
      "cell_type": "code",
      "source": [
        "def random_init_params():\n",
        "    w1 = tf.Variable(tf.random.uniform((2, 2)))\n",
        "    b1 = tf.Variable(tf.random.uniform((1, 2)))\n",
        "    w2 = tf.Variable(tf.random.uniform((2, 1)))\n",
        "    b2 = tf.Variable(tf.random.uniform((1, 1)))\n",
        "    return w1,b1,w2,b2"
      ],
      "metadata": {
        "id": "-CU83UfhgtTc"
      },
      "execution_count": null,
      "outputs": []
    },
    {
      "cell_type": "code",
      "source": [
        "x = tf.constant([[x1,x2]], dtype=tf.float32)\n",
        "y = Y[0]\n",
        "w1,b1,w2,b2 = random_init_params()"
      ],
      "metadata": {
        "id": "EWkHtkR5gtV3"
      },
      "execution_count": null,
      "outputs": []
    },
    {
      "cell_type": "code",
      "source": [
        "print(\" the initial 1st layer weights are:\\n\",w1.numpy())\n",
        "print(\"--------------------------------------------------\")\n",
        "print(\" the initial 2nd layer weights are:\\n\",w2.numpy())\n",
        "print(\"--------------------------------------------------\")\n",
        "print(\" the initial 1st layer bias are:\\n\",b1.numpy())\n",
        "print(\"--------------------------------------------------\")\n",
        "print(\" the initial 2nd layer bias are:\\n\",b2.numpy())"
      ],
      "metadata": {
        "colab": {
          "base_uri": "https://localhost:8080/"
        },
        "id": "A5rtZ8VHgtZ0",
        "outputId": "97904a75-2fde-4d1c-ce47-29f2420fcf95"
      },
      "execution_count": null,
      "outputs": [
        {
          "output_type": "stream",
          "name": "stdout",
          "text": [
            " the initial 1st layer weights are:\n",
            " [[0.6723863  0.55276585]\n",
            " [0.92784464 0.52251875]]\n",
            "--------------------------------------------------\n",
            " the initial 2nd layer weights are:\n",
            " [[0.66311324]\n",
            " [0.62806594]]\n",
            "--------------------------------------------------\n",
            " the initial 1st layer bias are:\n",
            " [[0.86381423 0.5683272 ]]\n",
            "--------------------------------------------------\n",
            " the initial 2nd layer bias are:\n",
            " [[0.8170296]]\n"
          ]
        }
      ]
    },
    {
      "cell_type": "code",
      "source": [
        "def forward_prop(x, w1, b1, w2, b2):\n",
        "    z1 = tf.matmul(x,w1) + b1\n",
        "    h1 = tf.math.sigmoid(z1)\n",
        "    z2 = tf.matmul(h1,w2) + b2\n",
        "    h2 = z2\n",
        "    return h2"
      ],
      "metadata": {
        "id": "I6n3wJGMgtcz"
      },
      "execution_count": null,
      "outputs": []
    },
    {
      "cell_type": "code",
      "source": [
        "y_pred = forward_prop(x, w1, b1, w2, b2)\n",
        "#loss\n",
        "L = 0.5*(y - y_pred)**2\n",
        "print(\"The MSE error is\",L)"
      ],
      "metadata": {
        "colab": {
          "base_uri": "https://localhost:8080/"
        },
        "id": "aNpl7fC8gtfd",
        "outputId": "a62f246c-db99-4a79-b5e3-b4ffac2f9776"
      },
      "execution_count": null,
      "outputs": [
        {
          "output_type": "stream",
          "name": "stdout",
          "text": [
            "The MSE error is tf.Tensor([[62.97134]], shape=(1, 1), dtype=float32)\n"
          ]
        }
      ]
    },
    {
      "cell_type": "markdown",
      "source": [
        "## Part6: Backpropagation\n",
        "\n",
        "Find the value of x that minimises $y = x^2+4x$\n",
        "\n",
        "Gradient descent update equation\n",
        "\n",
        "$x_{new} := x_{old}-\\eta\\frac{dy}{dx}$"
      ],
      "metadata": {
        "id": "yhovY2XGiGQE"
      }
    },
    {
      "cell_type": "code",
      "source": [
        "x = tf.Variable(0.0) ## add gradient tape\n",
        "lr = eta = 0.1"
      ],
      "metadata": {
        "id": "-Pw8yZeNiBQs"
      },
      "execution_count": null,
      "outputs": []
    },
    {
      "cell_type": "code",
      "source": [
        "with tf.GradientTape() as tape:\n",
        "    y = x**2+4*x\n",
        "grad = tape.gradient(y,x) ## dy/dx"
      ],
      "metadata": {
        "id": "Ny1MN7IfiBTY"
      },
      "execution_count": null,
      "outputs": []
    },
    {
      "cell_type": "code",
      "source": [
        "grad.numpy() #dy/dx = 2x+4, x=0 => dy/dx = 4"
      ],
      "metadata": {
        "colab": {
          "base_uri": "https://localhost:8080/"
        },
        "id": "XrZBZgctiBWh",
        "outputId": "07dba34a-b2a0-420b-8316-cac798338f79"
      },
      "execution_count": null,
      "outputs": [
        {
          "output_type": "execute_result",
          "data": {
            "text/plain": [
              "4.0"
            ]
          },
          "metadata": {},
          "execution_count": 34
        }
      ]
    },
    {
      "cell_type": "code",
      "source": [
        "x.assign_sub(lr*grad) ## x_new = x_old -lr*dy/dx"
      ],
      "metadata": {
        "colab": {
          "base_uri": "https://localhost:8080/"
        },
        "id": "T543zgGyiBY2",
        "outputId": "d18e427f-70d3-45ae-b1cf-dcdc3dff5fe8"
      },
      "execution_count": null,
      "outputs": [
        {
          "output_type": "execute_result",
          "data": {
            "text/plain": [
              "<tf.Variable 'UnreadVariable' shape=() dtype=float32, numpy=-0.4>"
            ]
          },
          "metadata": {},
          "execution_count": 35
        }
      ]
    },
    {
      "cell_type": "code",
      "source": [
        "x.numpy()"
      ],
      "metadata": {
        "colab": {
          "base_uri": "https://localhost:8080/"
        },
        "id": "Gj92DuQwiBbw",
        "outputId": "ba9a0327-9f00-43db-eede-7406bc4d300c"
      },
      "execution_count": null,
      "outputs": [
        {
          "output_type": "execute_result",
          "data": {
            "text/plain": [
              "-0.4"
            ]
          },
          "metadata": {},
          "execution_count": 36
        }
      ]
    },
    {
      "cell_type": "code",
      "source": [
        "## full loop\n",
        "x = tf.Variable(0.0) ## add gradient tape\n",
        "lr = eta = 0.1\n",
        "for i in range(10):\n",
        "    with tf.GradientTape() as tape:\n",
        "        y = x**2+4*x\n",
        "    grad = tape.gradient(y,x)\n",
        "    x.assign_sub(lr*grad)\n",
        "    print(x.numpy())"
      ],
      "metadata": {
        "colab": {
          "base_uri": "https://localhost:8080/"
        },
        "id": "D2uGkyf3iBen",
        "outputId": "731fd7f2-67fa-49c1-abf9-9aa3dcf44d9e"
      },
      "execution_count": null,
      "outputs": [
        {
          "output_type": "stream",
          "name": "stdout",
          "text": [
            "-0.4\n",
            "-0.72\n",
            "-0.9760001\n",
            "-1.1808001\n",
            "-1.34464\n",
            "-1.4757121\n",
            "-1.5805696\n",
            "-1.6644557\n",
            "-1.7315645\n",
            "-1.7852516\n"
          ]
        }
      ]
    },
    {
      "cell_type": "code",
      "source": [
        "x = tf.constant([[x1,x2]], dtype=tf.float32)\n",
        "y = Y[0]\n",
        "\n",
        "def random_init_params():\n",
        "    w1 = tf.Variable(tf.random.uniform((2, 2)))\n",
        "    b1 = tf.Variable(tf.random.uniform((1, 2)))\n",
        "    w2 = tf.Variable(tf.random.uniform((2, 1)))\n",
        "    b2 = tf.Variable(tf.random.uniform((1, 1)))\n",
        "    return w1,b1,w2,b2\n",
        "\n",
        "def forward_prop(x, w1, b1, w2, b2):\n",
        "    z1 = tf.matmul(x,w1) + b1\n",
        "    h1 = tf.math.sigmoid(z1)\n",
        "    z2 = tf.matmul(h1,w2) + b2\n",
        "    h2 = z2\n",
        "    return h2"
      ],
      "metadata": {
        "id": "OXxPFRsoiBhx"
      },
      "execution_count": null,
      "outputs": []
    },
    {
      "cell_type": "code",
      "source": [
        "w1,b1,w2,b2 = random_init_params()"
      ],
      "metadata": {
        "id": "N46rGRdBiWBR"
      },
      "execution_count": null,
      "outputs": []
    },
    {
      "cell_type": "code",
      "source": [
        "with tf.GradientTape() as tape:\n",
        "    y_pred = forward_prop(x,w1,b1,w2,b2)\n",
        "    loss = 0.5*(y-y_pred)**2"
      ],
      "metadata": {
        "id": "kVzXeNrGiWGE"
      },
      "execution_count": null,
      "outputs": []
    },
    {
      "cell_type": "code",
      "source": [
        "gw1, gb1, gw2, gb2 = tape.gradient(loss, [w1, b1, w2, b2])"
      ],
      "metadata": {
        "id": "8-V50bU0iWIX"
      },
      "execution_count": null,
      "outputs": []
    },
    {
      "cell_type": "code",
      "source": [
        "gb1"
      ],
      "metadata": {
        "colab": {
          "base_uri": "https://localhost:8080/"
        },
        "id": "ghVPDV0viWKr",
        "outputId": "d2e602f7-8e86-48c4-d73d-2e03a447ee57"
      },
      "execution_count": null,
      "outputs": [
        {
          "output_type": "execute_result",
          "data": {
            "text/plain": [
              "<tf.Tensor: shape=(1, 2), dtype=float32, numpy=array([[-1.2036984, -0.2609734]], dtype=float32)>"
            ]
          },
          "metadata": {},
          "execution_count": 42
        }
      ]
    },
    {
      "cell_type": "code",
      "source": [
        "gw2"
      ],
      "metadata": {
        "colab": {
          "base_uri": "https://localhost:8080/"
        },
        "id": "V4OHFntPiWM_",
        "outputId": "ab550acb-62e3-45e1-a583-43d830ea95d5"
      },
      "execution_count": null,
      "outputs": [
        {
          "output_type": "execute_result",
          "data": {
            "text/plain": [
              "<tf.Tensor: shape=(2, 1), dtype=float32, numpy=\n",
              "array([[-4.688952 ],\n",
              "       [-7.1784263]], dtype=float32)>"
            ]
          },
          "metadata": {},
          "execution_count": 43
        }
      ]
    },
    {
      "cell_type": "code",
      "source": [
        "gb2"
      ],
      "metadata": {
        "colab": {
          "base_uri": "https://localhost:8080/"
        },
        "id": "ZUzoE_tviWPE",
        "outputId": "91ad2f6b-347e-429f-8e13-bc05428c09a9"
      },
      "execution_count": null,
      "outputs": [
        {
          "output_type": "execute_result",
          "data": {
            "text/plain": [
              "<tf.Tensor: shape=(1, 1), dtype=float32, numpy=array([[-11.640278]], dtype=float32)>"
            ]
          },
          "metadata": {},
          "execution_count": 44
        }
      ]
    },
    {
      "cell_type": "code",
      "source": [
        "lr=0.01\n",
        "print(f\"Value of w1 before gradient update is {w1}\")\n",
        "w1.assign_sub(lr*gw1)\n",
        "print(f\"Value of w1 after gradient update is {w1}\")"
      ],
      "metadata": {
        "colab": {
          "base_uri": "https://localhost:8080/"
        },
        "id": "uLH5Xfs3iWRV",
        "outputId": "c9e6489b-5bed-45e8-ede4-96a1ddbdcf89"
      },
      "execution_count": null,
      "outputs": [
        {
          "output_type": "stream",
          "name": "stdout",
          "text": [
            "Value of w1 before gradient update is <tf.Variable 'Variable:0' shape=(2, 2) dtype=float32, numpy=\n",
            "array([[0.883203  , 0.29948056],\n",
            "       [0.97602487, 0.24920475]], dtype=float32)>\n",
            "Value of w1 after gradient update is <tf.Variable 'Variable:0' shape=(2, 2) dtype=float32, numpy=\n",
            "array([[0.87798864, 0.29835004],\n",
            "       [0.9669579 , 0.24723895]], dtype=float32)>\n"
          ]
        }
      ]
    },
    {
      "cell_type": "code",
      "source": [
        "lr=0.01\n",
        "print(f\"Value of b1 before gradient update is {b1}\")\n",
        "b1.assign_sub(lr*gb1)\n",
        "print(f\"Value of w1 after gradient update is {b1}\")"
      ],
      "metadata": {
        "colab": {
          "base_uri": "https://localhost:8080/"
        },
        "id": "e8GMsO7eiWTh",
        "outputId": "c06bd259-7cee-4734-be05-c6f571bb3c09"
      },
      "execution_count": null,
      "outputs": [
        {
          "output_type": "stream",
          "name": "stdout",
          "text": [
            "Value of b1 before gradient update is <tf.Variable 'Variable:0' shape=(1, 2) dtype=float32, numpy=array([[0.7240763, 0.792966 ]], dtype=float32)>\n",
            "Value of w1 after gradient update is <tf.Variable 'Variable:0' shape=(1, 2) dtype=float32, numpy=array([[0.73611325, 0.79557574]], dtype=float32)>\n"
          ]
        }
      ]
    },
    {
      "cell_type": "code",
      "source": [
        "def train(x, y, w1, b1, w2, b2):\n",
        "    y_true = y\n",
        "    with tf.GradientTape() as g:\n",
        "        y_pred = forward_prop(x, w1, b1, w2, b2)\n",
        "\n",
        "        # loss\n",
        "        loss = 0.5*(y_true - y_pred)** 2\n",
        "    \n",
        "    #Gradient calculation  \n",
        "    print(\"**************************************************\")\n",
        "    print(\"GRADIENTS\")\n",
        "    print(\"**************************************************\")\n",
        "    gw1, gb1, gw2, gb2 = g.gradient(loss, [w1, b1, w2, b2])\n",
        "    print(\" the gradient for 1st layer weights are:\\n\",gw1.numpy())\n",
        "    print(\"--------------------------------------------------\")\n",
        "    print(\" the gradient for 2nd layer weights are:\\n\",gw2.numpy())\n",
        "    print(\"--------------------------------------------------\")\n",
        "    print(\" the gradient for 1st layer bias are:\\n\",gb1.numpy())\n",
        "    print(\"--------------------------------------------------\")\n",
        "    print(\" the gradient for 2nd layer bias are:\\n\",gb2.numpy())\n",
        "    print(\"--------------------------------------------------\")\n",
        "\n",
        "    # Gradient descent:\n",
        "    lr=0.2\n",
        "    w1.assign_sub(lr*gw1)\n",
        "    b1.assign_sub(lr*gb1) \n",
        "    w2.assign_sub(lr*gw2)\n",
        "    b2.assign_sub(lr*gb2)\n",
        "    print(\"**************************************************\")\n",
        "    print(\"NEW UPDATES\")\n",
        "    print(\"**************************************************\")\n",
        "    print(\" the updated 1st layer weights are:\\n\",w1.numpy())\n",
        "    print(\"--------------------------------------------------\")\n",
        "    print(\" the updated 2nd layer weights are:\\n\",w2.numpy())\n",
        "    print(\"--------------------------------------------------\")\n",
        "    print(\" the updated 1st layer bias are:\\n\",b1.numpy())\n",
        "    print(\"--------------------------------------------------\")\n",
        "    print(\" the updated 2nd layer bias are:\\n\",b2.numpy())\n",
        "\n",
        "\n",
        "    return w1, b1, w2, b2,loss"
      ],
      "metadata": {
        "id": "IRuy-EBMiWb7"
      },
      "execution_count": null,
      "outputs": []
    },
    {
      "cell_type": "code",
      "source": [
        "w1,b1,w2,b2 = random_init_params()\n",
        "w1, b1, w2, b2,loss = train(x, y, w1, b1, w2, b2)"
      ],
      "metadata": {
        "colab": {
          "base_uri": "https://localhost:8080/"
        },
        "id": "v7E5_4NIimvd",
        "outputId": "66212e10-a61b-4e38-fbcd-8526d1b8116e"
      },
      "execution_count": null,
      "outputs": [
        {
          "output_type": "stream",
          "name": "stdout",
          "text": [
            "**************************************************\n",
            "GRADIENTS\n",
            "**************************************************\n",
            " the gradient for 1st layer weights are:\n",
            " [[0.3567111 1.101206 ]\n",
            " [0.6202603 1.9148111]]\n",
            "--------------------------------------------------\n",
            " the gradient for 2nd layer weights are:\n",
            " [[-4.935487]\n",
            " [-6.67208 ]]\n",
            "--------------------------------------------------\n",
            " the gradient for 1st layer bias are:\n",
            " [[-0.8234373 -2.5420406]]\n",
            "--------------------------------------------------\n",
            " the gradient for 2nd layer bias are:\n",
            " [[-10.932295]]\n",
            "--------------------------------------------------\n",
            "**************************************************\n",
            "NEW UPDATES\n",
            "**************************************************\n",
            " the updated 1st layer weights are:\n",
            " [[ 0.6124749  -0.160002  ]\n",
            " [ 0.6481408  -0.19806659]]\n",
            "--------------------------------------------------\n",
            " the updated 2nd layer weights are:\n",
            " [[1.2912501]\n",
            " [2.3121057]]\n",
            "--------------------------------------------------\n",
            " the updated 1st layer bias are:\n",
            " [[0.8477995 1.1223896]]\n",
            "--------------------------------------------------\n",
            " the updated 2nd layer bias are:\n",
            " [[3.174117]]\n"
          ]
        }
      ]
    },
    {
      "cell_type": "code",
      "source": [],
      "metadata": {
        "id": "wCXWI2kXim16"
      },
      "execution_count": null,
      "outputs": []
    },
    {
      "cell_type": "code",
      "source": [],
      "metadata": {
        "id": "k2n74Uaeim4l"
      },
      "execution_count": null,
      "outputs": []
    },
    {
      "cell_type": "code",
      "source": [],
      "metadata": {
        "id": "utQFUmmMim7M"
      },
      "execution_count": null,
      "outputs": []
    },
    {
      "cell_type": "code",
      "source": [],
      "metadata": {
        "id": "-yJ6nSm0im95"
      },
      "execution_count": null,
      "outputs": []
    },
    {
      "cell_type": "code",
      "source": [],
      "metadata": {
        "id": "Nfqvpcz3inAa"
      },
      "execution_count": null,
      "outputs": []
    },
    {
      "cell_type": "code",
      "source": [],
      "metadata": {
        "id": "HbalFZoHinDX"
      },
      "execution_count": null,
      "outputs": []
    },
    {
      "cell_type": "code",
      "source": [],
      "metadata": {
        "id": "krrsSnTuinTM"
      },
      "execution_count": null,
      "outputs": []
    }
  ]
}